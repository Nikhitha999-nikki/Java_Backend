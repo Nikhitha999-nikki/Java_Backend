{
  "nbformat": 4,
  "nbformat_minor": 0,
  "metadata": {
    "colab": {
      "provenance": [],
      "authorship_tag": "ABX9TyOOhmVAp7XljwKByQoxjvCj",
      "include_colab_link": true
    },
    "kernelspec": {
      "name": "python3",
      "display_name": "Python 3"
    },
    "language_info": {
      "name": "python"
    }
  },
  "cells": [
    {
      "cell_type": "markdown",
      "metadata": {
        "id": "view-in-github",
        "colab_type": "text"
      },
      "source": [
        "<a href=\"https://colab.research.google.com/github/Nikhitha999-nikki/Java_Backend/blob/main/Exception%20Handling.ipynb\" target=\"_parent\"><img src=\"https://colab.research.google.com/assets/colab-badge.svg\" alt=\"Open In Colab\"/></a>"
      ]
    },
    {
      "cell_type": "code",
      "execution_count": null,
      "metadata": {
        "id": "dp_vt7Q5pRHM"
      },
      "outputs": [],
      "source": [
        "#EXCEPTION HANDLING\n",
        "#TRY CATCH FINALLY\n",
        "\n",
        "import java.util.*;\n",
        "class Main{\n",
        "    public static void main(String[] args){\n",
        "        Scanner sc=new Scanner(System.in);\n",
        "        int n=sc.nextInt();\n",
        "        try{\n",
        "            int s=n/0;\n",
        "        }\n",
        "        catch(ArithmeticException e){\n",
        "            System.out.println(e);\n",
        "            System.out.println(\"DIVISION BY ZERO NOT ALLOWS\");\n",
        "        }\n",
        "        finally{\n",
        "            System.out.println(\"this block execute without consideration of any error or exception ; regardless of whether an exception occurs or not. \");\n",
        "            System.out.println(\"when we have put our imp info in this block when power off all are gone except finally execute itself safely\");\n",
        "        }\n",
        "    }\n",
        "}"
      ]
    },
    {
      "cell_type": "code",
      "source": [
        "#Nested try-catch\n",
        "\n",
        "import java.util.*;\n",
        "class Main{\n",
        "    public static void main(String[] args){\n",
        "        Scanner sc=new Scanner(System.in);\n",
        "        int n=sc.nextInt();\n",
        "        try{\n",
        "            System.out.println(\"outer try..\");\n",
        "            try{\n",
        "            int s=n/0;\n",
        "            }\n",
        "            catch(ArithmeticException e){\n",
        "            System.out.println(e);\n",
        "            System.out.println(\"DIVISION BY ZERO NOT ALLOWS\");\n",
        "            }\n",
        "            String str=null;\n",
        "            System.out.println(str.length());\n",
        "        }\n",
        "        catch(NullPointerException e){\n",
        "            System.out.println(e);\n",
        "            //System.out.println(\"DIVISION BY ZERO NOT ALLOWS\");\n",
        "        }\n",
        "        finally{\n",
        "            System.out.println(\"this block execute without consideration of any error or exception ; regardless of whether an exception occurs or not. \");\n",
        "            System.out.println(\"when we have put our imp info in this block when power off all are gone except finally execute itself safely\");\n",
        "        }\n",
        "    }\n",
        "}"
      ],
      "metadata": {
        "id": "H87sddg0pgnD"
      },
      "execution_count": null,
      "outputs": []
    },
    {
      "cell_type": "code",
      "source": [
        "# throw (Custom Error) (declared within block/method)\n",
        "\n",
        "import java.util.*;\n",
        "class Main{\n",
        "    public static void main(String[] args){\n",
        "        Scanner sc=new Scanner(System.in);\n",
        "        int n=sc.nextInt();\n",
        "        if(n<18)\n",
        "        {\n",
        "            throw new ArithmeticException(\">18 people are only eligible for voting\");\n",
        "        }\n",
        "        else{\n",
        "            System.out.println(\"Yeah! You are eligible for voting..\");\n",
        "        }\n",
        "    }\n",
        "}"
      ],
      "metadata": {
        "id": "PybpQDTxr3AH"
      },
      "execution_count": null,
      "outputs": []
    },
    {
      "cell_type": "code",
      "source": [
        "# Throws (declared at the time of method declaration)(custom exception)\n",
        "\n",
        "import java.util.*;\n",
        "class Main{\n",
        "    public static void check(int age) throws Exception{\n",
        "        if(age<18)\n",
        "        {\n",
        "            throw new Exception(\">18 people are only eligible for voting\");\n",
        "        }\n",
        "        else{\n",
        "            System.out.println(\"Yeah! You are eligible for voting..\");\n",
        "        }\n",
        "    }\n",
        "    public static void main(String[] args){\n",
        "        Scanner sc=new Scanner(System.in);\n",
        "        int age=sc.nextInt();\n",
        "        try{\n",
        "        check(age);\n",
        "        }\n",
        "        catch(Exception e){\n",
        "            System.out.println(e);\n",
        "        }\n",
        "    }\n",
        "}"
      ],
      "metadata": {
        "id": "cUCzg22vzDdS"
      },
      "execution_count": null,
      "outputs": []
    }
  ]
}