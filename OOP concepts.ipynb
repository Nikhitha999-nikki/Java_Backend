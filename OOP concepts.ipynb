{
  "nbformat": 4,
  "nbformat_minor": 0,
  "metadata": {
    "colab": {
      "provenance": [],
      "authorship_tag": "ABX9TyOJlYth+JozqHixlGRnVBq4",
      "include_colab_link": true
    },
    "kernelspec": {
      "name": "python3",
      "display_name": "Python 3"
    },
    "language_info": {
      "name": "python"
    }
  },
  "cells": [
    {
      "cell_type": "markdown",
      "metadata": {
        "id": "view-in-github",
        "colab_type": "text"
      },
      "source": [
        "<a href=\"https://colab.research.google.com/github/Nikhitha999-nikki/Java_Backend/blob/main/Untitled.ipynb\" target=\"_parent\"><img src=\"https://colab.research.google.com/assets/colab-badge.svg\" alt=\"Open In Colab\"/></a>"
      ]
    },
    {
      "cell_type": "code",
      "execution_count": null,
      "metadata": {
        "id": "Hz1R5c8m0f2R"
      },
      "outputs": [],
      "source": [
        "//class and objects,encapsulation\n",
        "public class sam{\n",
        "  int n;\n",
        "  String name;\n",
        "  public sam(int n,String name){\n",
        "    this.n=n;\n",
        "    this.name=name;\n",
        "  }\n",
        "  public void display(){\n",
        "    System.out.println(name+n);\n",
        "  }\n",
        "  public static void main(String[] args)\n",
        "  {\n",
        "    sam s=new sam(9,\"nikki\");\n",
        "    s.display();\n",
        "  }\n",
        "}"
      ]
    },
    {
      "cell_type": "code",
      "source": [
        "//Abstract class amd inheritance\n",
        "abstract class vehicle{\n",
        "  abstract void process();\n",
        "  abstract void end();\n",
        "  public void start()\n",
        "  {\n",
        "    System.out.println(\"car started...\");\n",
        "  }\n",
        "}\n",
        "class car extends vehicle{\n",
        "  void process()\n",
        "  {\n",
        "    System.out.println(\"car running,,,\");\n",
        "  }\n",
        "  void end(){\n",
        "    System.out.println(\"Reach destination,,,\");\n",
        "  }\n",
        "}\n",
        "public class main{\n",
        "public static void main(String[] args)\n",
        "{\n",
        "  vehicle v=new car();\n",
        "  v.start();\n",
        "  v.process();\n",
        "  v.end();\n",
        "}\n",
        "}"
      ],
      "metadata": {
        "id": "DvFNdyTr8v2N"
      },
      "execution_count": null,
      "outputs": []
    },
    {
      "cell_type": "code",
      "source": [
        "//interface\n",
        "interface i1 {\n",
        "    final int n = 10;\n",
        "    public void display();\n",
        "    public void test();\n",
        "}\n",
        "\n",
        "class i2 implements i1 {\n",
        "    public void display() {\n",
        "        System.out.println(\"display\");\n",
        "    }\n",
        "    public void test() {\n",
        "        System.out.println(\"test from i2\");\n",
        "    }\n",
        "}\n",
        "\n",
        "class i3 implements i1 {\n",
        "    public void display() {\n",
        "        System.out.println(\"display from i3\");\n",
        "    }\n",
        "    public void test() {\n",
        "        System.out.println(\"testing..\");\n",
        "    }\n",
        "}\n",
        "\n",
        "public class Main {\n",
        "    public static void main(String[] args) {\n",
        "        i2 obj1 = new i2();\n",
        "        obj1.display();\n",
        "        obj1.test();\n",
        "\n",
        "        i3 obj2 = new i3();\n",
        "        obj2.display();\n",
        "        obj2.test();\n",
        "    }\n",
        "}\n"
      ],
      "metadata": {
        "id": "YglXfFp0AtNl"
      },
      "execution_count": null,
      "outputs": []
    },
    {
      "cell_type": "code",
      "source": [
        "//polymorphism\n",
        "//compiletime(function overloading)\n",
        "class overload{\n",
        "    public static int add(int a){\n",
        "        return a;\n",
        "    }\n",
        "    public static int add(int a,int b){\n",
        "        return a+b;\n",
        "    }\n",
        "}\n",
        "class Main{\n",
        "\n",
        "     public static void main(String []args){\n",
        "        overload a=new overload();\n",
        "        System.out.println(a.add(1));\n",
        "        System.out.println(a.add(1,8));\n",
        "     }\n",
        "}\n",
        "\n",
        "//Runtime(overriding)\n",
        "class overload{\n",
        "    public void add(){\n",
        "        System.out.println(\"parent\");\n",
        "    }\n",
        "\n",
        "}\n",
        "class base extends overload{\n",
        "  public void add(){\n",
        "        super.add();\n",
        "        System.out.println(\"base\");\n",
        "    }\n",
        "}\n",
        "class Main{\n",
        "\n",
        "     public static void main(String []args){\n",
        "        overload a=new base();\n",
        "        a.add();\n",
        "     }\n",
        "}"
      ],
      "metadata": {
        "id": "R8bqPPJGbo6e"
      },
      "execution_count": null,
      "outputs": []
    }
  ]
}
