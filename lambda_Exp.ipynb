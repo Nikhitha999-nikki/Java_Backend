{
  "nbformat": 4,
  "nbformat_minor": 0,
  "metadata": {
    "colab": {
      "provenance": [],
      "authorship_tag": "ABX9TyNDz1JisxuQNHv4jKklYazd",
      "include_colab_link": true
    },
    "kernelspec": {
      "name": "python3",
      "display_name": "Python 3"
    },
    "language_info": {
      "name": "python"
    }
  },
  "cells": [
    {
      "cell_type": "markdown",
      "metadata": {
        "id": "view-in-github",
        "colab_type": "text"
      },
      "source": [
        "<a href=\"https://colab.research.google.com/github/Nikhitha999-nikki/Java_Backend/blob/main/lambda_Exp.ipynb\" target=\"_parent\"><img src=\"https://colab.research.google.com/assets/colab-badge.svg\" alt=\"Open In Colab\"/></a>"
      ]
    },
    {
      "cell_type": "code",
      "execution_count": null,
      "metadata": {
        "id": "808a8emO7TEs"
      },
      "outputs": [],
      "source": [
        "#Lambda Expressions\n",
        "\n",
        "interface FunInterface{\n",
        "  void absFun(int x);\n",
        "  default void normal(){\n",
        "    System.out.println(\"i;m normal fun\");\n",
        "  }\n",
        "}\n",
        "public class Main\n",
        "{\n",
        "\tpublic static void main(String[] args) {\n",
        "\t\tFunInterface fobj=(int x)->System.out.println(2*x); //lambda exp\n",
        "\t\tfobj.absFun(5);\n",
        "\t}\n",
        "}"
      ]
    }
  ]
}